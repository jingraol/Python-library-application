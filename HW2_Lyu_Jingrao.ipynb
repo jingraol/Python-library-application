{
 "cells": [
  {
   "cell_type": "markdown",
   "metadata": {
    "id": "bNsIruOzI4iF"
   },
   "source": [
    "## **Homework 2**\n",
    "\n",
    "### Create a copy of the notebook to start answering the questions. Name your notebook in the format HW2_lastname_firstname.ipynb to facilitate the grading process. \n",
    "\n",
    "### Answer all the questions, test your code to ensure there are no errors and the results are as expected. Once you have answered all the questions, save the final copy, then go to File-> click on Download.ipynb. Once the local copy has been downloaded, submit your file on Blackboard under the corresponding assignment section. Also provide us a link to your notebook during submission. \n",
    "\n",
    "### **The due date of this homework is 02/12/2021 (Friday).**\n",
    "\n",
    "### Please ensure you follow all the steps mentioned in the homework.\n",
    "\n",
    "### All the questions have a sample input and output to help you understand the question.\n",
    "\n",
    "### You can submit your solutions any number of times until the deadline.\n"
   ]
  },
  {
   "cell_type": "markdown",
   "metadata": {
    "id": "U3Yz3s2uio1F"
   },
   "source": [
    "**Q1. Lets consider your data is like the below cell:**\n",
    "\n",
    "**Q1-1**: Write a program that create a dataframe from the data.\n",
    "\n",
    "**Q1-2:** Select people that are psychologist or teacher and their number of cars is greater than their family size.\n",
    "\n",
    "**Q1-3:** Select people who have at most 2 family members and at least 1 car.\n",
    "\n",
    "**Q1-4:** Write a code that get number of unique jobs in this dataset.\n",
    "\n",
    "\n",
    "\n"
   ]
  },
  {
   "cell_type": "code",
   "execution_count": null,
   "metadata": {
    "id": "yR8lcOtcjxXD"
   },
   "outputs": [],
   "source": [
    "data = {\"name\": [\"Joseph\", \"Jacob\", \"Sam\", \"Jesee\", \"Ryan\", \"Lisa\", \"Lee\"],\n",
    "        \"job\": [\"teacher\", \"psychologist\", \"data scientist\", \"software developer\", \"psychologist\", \"psychologist\", \"teacher\"],\n",
    "        \"family_size\": [3, 2, 1, 4, 2, 3, 2],\n",
    "        \"num_cars\": [3, 1, 1, 2, 2, 4, 1]}"
   ]
  },
  {
   "cell_type": "code",
   "execution_count": 5,
   "metadata": {
    "id": "Youi5qMaP34p",
    "colab": {
     "base_uri": "https://localhost:8080/"
    },
    "outputId": "1334be58-00a3-482c-da6c-1ebac10a7203"
   },
   "outputs": [
    {
     "name": "stdout",
     "output_type": "stream",
     "text": [
      "     name                 job  family_size  num_cars\n",
      "0  Joseph             teacher            3         3\n",
      "1   Jacob        psychologist            2         1\n",
      "2     Sam      data scientist            1         1\n",
      "3   Jesee  software developer            4         2\n",
      "4    Ryan        psychologist            2         2\n",
      "5    Lisa        psychologist            3         4\n",
      "6     Lee             teacher            2         1\n",
      "   name\n",
      "5  Lisa\n",
      "    name\n",
      "1  Jacob\n",
      "2    Sam\n",
      "4   Ryan\n",
      "6    Lee\n",
      "['teacher' 'psychologist' 'data scientist' 'software developer']\n"
     ]
    }
   ],
   "source": [
    "# Type your solution here\n",
    "import pandas as pd\n",
    "import numpy as np\n",
    "\n",
    "data = {\"name\": [\"Joseph\", \"Jacob\", \"Sam\", \"Jesee\", \"Ryan\", \"Lisa\", \"Lee\"],\n",
    "        \"job\": [\"teacher\", \"psychologist\", \"data scientist\", \"software developer\", \"psychologist\", \"psychologist\", \"teacher\"],\n",
    "        \"family_size\": [3, 2, 1, 4, 2, 3, 2],\n",
    "        \"num_cars\": [3, 1, 1, 2, 2, 4, 1]}\n",
    "Q1 = pd.DataFrame(data)\n",
    "print(Q1)\n",
    "\n",
    "Q2 = Q1[((Q1['job']==\"psychologist\")|(Q1['job']==\"teacher\"))&(Q1['num_cars']>Q1['family_size'])][['name']]\n",
    "print(Q2)\n",
    "\n",
    "Q3 = Q1[(Q1['family_size'] <= 2)&(Q1['num_cars']>=1)][['name']]\n",
    "print(Q3)\n",
    "\n",
    "Q4 = pd.Series(data[\"job\"]).unique()\n",
    "print(Q4)"
   ]
  },
  {
   "cell_type": "markdown",
   "metadata": {
    "id": "Ow6nG8k4l91X"
   },
   "source": [
    "**Q2. Lets consider you have two series like the below cell. Compute the mean of weights of each fruit.**"
   ]
  },
  {
   "cell_type": "code",
   "execution_count": null,
   "metadata": {
    "id": "u-X_DoOzVLLB"
   },
   "outputs": [],
   "source": [
    "import numpy as np\n",
    "fruit = pd.Series(np.random.choice(['apple', 'banana', 'carrot'], 10))\n",
    "weights = pd.Series(np.linspace(1, 10, 10))"
   ]
  },
  {
   "cell_type": "code",
   "execution_count": 9,
   "metadata": {
    "id": "S419nzYnpU__",
    "colab": {
     "base_uri": "https://localhost:8080/"
    },
    "outputId": "8e24c7d2-e72a-41a4-9d8e-8aec5111ab16"
   },
   "outputs": [
    {
     "name": "stdout",
     "output_type": "stream",
     "text": [
      "0    carrot\n",
      "1     apple\n",
      "2    banana\n",
      "3     apple\n",
      "4     apple\n",
      "5    carrot\n",
      "6     apple\n",
      "7     apple\n",
      "8    banana\n",
      "9    carrot\n",
      "dtype: object\n",
      "0     1.0\n",
      "1     2.0\n",
      "2     3.0\n",
      "3     4.0\n",
      "4     5.0\n",
      "5     6.0\n",
      "6     7.0\n",
      "7     8.0\n",
      "8     9.0\n",
      "9    10.0\n",
      "dtype: float64\n",
      "apple     5.200000\n",
      "banana    6.000000\n",
      "carrot    5.666667\n",
      "dtype: float64\n"
     ]
    }
   ],
   "source": [
    "# Type your solution here\n",
    "import pandas as pd\n",
    "import numpy as np\n",
    "\n",
    "fruit = pd.Series(np.random.choice(['apple', 'banana', 'carrot'], 10))\n",
    "weights = pd.Series(np.linspace(1, 10, 10))\n",
    "Q2 = weights.groupby(fruit).mean()\n",
    "#print(fruit)\n",
    "#print(weights)\n",
    "print(Q2)"
   ]
  },
  {
   "cell_type": "markdown",
   "metadata": {
    "id": "g4lKaPIhtVrt"
   },
   "source": [
    "**Q3. Consider the below course_name array:**\n",
    "\n",
    "**Q3-1**: Write a NumPy program to get the indices of the sorted elements of **course_name** array.\n",
    "\n",
    "**Q3-2:** Write numpy code to check whether each element of **course_name** array starts with \"P\".\n"
   ]
  },
  {
   "cell_type": "code",
   "execution_count": null,
   "metadata": {
    "id": "RUP_jp2KtVrx"
   },
   "outputs": [],
   "source": [
    "import numpy as np\n",
    "course_name = np.array(['Python', 'JS', 'examples', 'PHP', 'html'])"
   ]
  },
  {
   "cell_type": "code",
   "execution_count": 16,
   "metadata": {
    "id": "U1i27POxv-o_",
    "colab": {
     "base_uri": "https://localhost:8080/"
    },
    "outputId": "235a5a6f-1de7-41ed-ad7f-48192f58dfc8"
   },
   "outputs": [
    {
     "name": "stdout",
     "output_type": "stream",
     "text": [
      "[1 3 0 2 4]\n",
      "[ 0 -1 -1  0 -1]\n",
      "[ True False False  True False]\n"
     ]
    }
   ],
   "source": [
    "# Type your solution here\n",
    "import pandas as pd\n",
    "import numpy as np\n",
    "\n",
    "course_name = np.array(['Python', 'JS', 'examples', 'PHP', 'html'], dtype=np.str)\n",
    "Q3_1 = np.argsort(course_name)\n",
    "print(Q3_1)\n",
    "#print (course_name[Q3_1])\n",
    "#print (np.sort(course_name))\n",
    "\n",
    "IndexP = np.char.find(course_name, \"P\")\n",
    "#print(IndexP)\n",
    "Q3_2 = IndexP==0  \n",
    "print (Q3_2)"
   ]
  },
  {
   "cell_type": "markdown",
   "metadata": {
    "id": "sUFItNFOxwkz"
   },
   "source": [
    "**Q4. Consider the below student_id array:**\n",
    "\n",
    "**Q4-1:** Reverse the **student_id** array. Print both original and reversed array.\n",
    "\n",
    "**Q4-2:** Get the 3-largest values of **student_id** array."
   ]
  },
  {
   "cell_type": "code",
   "execution_count": null,
   "metadata": {
    "id": "Rl5qzEjFv0nw"
   },
   "outputs": [],
   "source": [
    "import numpy as np\n",
    "student_id = np.array([1023, 5202, 6230, 1671, 1682, 5241, 4532])"
   ]
  },
  {
   "cell_type": "code",
   "execution_count": 18,
   "metadata": {
    "id": "EetvHGrUxMCC",
    "colab": {
     "base_uri": "https://localhost:8080/"
    },
    "outputId": "60268a23-6432-447b-a3b0-d639576ca3eb"
   },
   "outputs": [
    {
     "name": "stdout",
     "output_type": "stream",
     "text": [
      "[1023 5202 6230 1671 1682 5241 4532]\n",
      "[4532 5241 1682 1671 6230 5202 1023]\n",
      "[6230 5241 5202]\n"
     ]
    }
   ],
   "source": [
    "# Type your solution here\n",
    "import pandas as pd\n",
    "import numpy as np\n",
    "\n",
    "student_id = np.array([1023, 5202, 6230, 1671, 1682, 5241, 4532])\n",
    "print(student_id)\n",
    "Q4_1 = np.flipud(student_id)\n",
    "print(Q4_1)\n",
    "\n",
    "desc = np.flipud(np.sort(student_id))\n",
    "Q4_2 = desc[0:3]\n",
    "print(Q4_2)"
   ]
  },
  {
   "cell_type": "markdown",
   "metadata": {
    "id": "uKRyDVuW6B19"
   },
   "source": [
    "# **Q5: Write a numpy program to print sum of all the multiples of 3 or 5 below 100**"
   ]
  },
  {
   "cell_type": "code",
   "execution_count": 27,
   "metadata": {
    "id": "ZIixq1gz6OK3",
    "colab": {
     "base_uri": "https://localhost:8080/"
    },
    "outputId": "21ddbfcb-f385-41ae-96d1-dc194d60ae8a"
   },
   "outputs": [
    {
     "name": "stdout",
     "output_type": "stream",
     "text": [
      "2318\n"
     ]
    }
   ],
   "source": [
    "# Type your solution here\n",
    "\n",
    "# Hint: you can use arange to start off\n",
    "import pandas as pd\n",
    "import numpy as np\n",
    "\n",
    "a = np.array(np.arange(0, 100, 3))\n",
    "b = np.array(np.arange(0, 100, 5))\n",
    "#print(a)\n",
    "#print(b)\n",
    "Q5 = np.union1d(a,b)\n",
    "print(sum(Q5))"
   ]
  },
  {
   "cell_type": "markdown",
   "metadata": {
    "id": "2CWJOsP24c34"
   },
   "source": [
    "**Q6. Consider the below array.**\n",
    "\n",
    "Q6.1. Write a code to swap column 1 with column 2.\n",
    "\n",
    "Q6.2. Write a code to swap row 0 with row 1."
   ]
  },
  {
   "cell_type": "code",
   "execution_count": null,
   "metadata": {
    "id": "3OG6X5Eg5KSM"
   },
   "outputs": [],
   "source": [
    "import numpy as np\n",
    "\n",
    "arr = np.arange(12).reshape(3,4)\n",
    "print(arr)"
   ]
  },
  {
   "cell_type": "code",
   "execution_count": 23,
   "metadata": {
    "id": "Q-Q91DpO5YYW",
    "colab": {
     "base_uri": "https://localhost:8080/"
    },
    "outputId": "af8f3c1f-bd65-498a-df26-0b531adbadee"
   },
   "outputs": [
    {
     "name": "stdout",
     "output_type": "stream",
     "text": [
      "[[ 0  1  2  3]\n",
      " [ 4  5  6  7]\n",
      " [ 8  9 10 11]]\n",
      "[[ 0  2  1  3]\n",
      " [ 4  6  5  7]\n",
      " [ 8 10  9 11]]\n",
      "[[ 4  5  6  7]\n",
      " [ 0  1  2  3]\n",
      " [ 8  9 10 11]]\n"
     ]
    }
   ],
   "source": [
    "# Type your solution here\n",
    "import numpy as np\n",
    "\n",
    "arr = np.arange(12).reshape(3,4)\n",
    "print(arr)\n",
    "Q6_1 = arr[:,[0,2,1,3]]\n",
    "print(Q6_1)\n",
    "Q6_2 = arr[[1,0,2], :]\n",
    "print(Q6_2)"
   ]
  }
 ],
 "metadata": {
  "colab": {
   "name": "HW2_Lyu_Jingrao.ipynb",
   "provenance": [],
   "collapsed_sections": []
  },
  "kernelspec": {
   "name": "python3",
   "display_name": "Python 3"
  }
 },
 "nbformat": 4,
 "nbformat_minor": 0
}
